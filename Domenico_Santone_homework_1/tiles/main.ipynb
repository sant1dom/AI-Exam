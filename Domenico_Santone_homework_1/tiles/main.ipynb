{
 "cells": [
  {
   "cell_type": "markdown",
   "metadata": {},
   "source": [
    "# Artificial Intelligence - Homework 1"
   ]
  },
  {
   "cell_type": "markdown",
   "metadata": {},
   "source": [
    "## N-Puzzle"
   ]
  },
  {
   "cell_type": "code",
   "execution_count": 1,
   "metadata": {
    "pycharm": {
     "is_executing": true
    },
    "tags": []
   },
   "outputs": [],
   "source": [
    "from algorithms.DFSearch import DFSearch\n",
    "from algorithms.BFSearch import BFSearch\n",
    "from algorithms.RandomSearch import RandomSearch\n",
    "from algorithms.BestFirstSearch import BestFirstSearch\n",
    "from algorithms.AStarSearch import AStarSearch\n",
    "from heuristics.Heuristics import differences\n",
    "from heuristics.Heuristics import calculateManhattan\n",
    "from representation.Board import Board"
   ]
  },
  {
   "cell_type": "markdown",
   "metadata": {},
   "source": [
    "### Initialization of the board\n",
    "You can provide your own board or get a randomized one (not always guaranteed to be solvable) based on the size provided."
   ]
  },
  {
   "cell_type": "markdown",
   "metadata": {},
   "source": [
    "Example of 3x3 puzzle\n",
    "```python\n",
    "board = Board(3, [[1, 2, 3],\n",
    "                  [4, 5, 6],\n",
    "                  [7, 8, 0]])\n",
    "```\n",
    "\n",
    "![immagine.png](https://miro.medium.com/max/281/1*IQ4oYMH3SCAriifZMdZA9w.png)"
   ]
  },
  {
   "cell_type": "markdown",
   "metadata": {},
   "source": [
    "Simple board to show the tries"
   ]
  },
  {
   "cell_type": "code",
   "execution_count": 2,
   "metadata": {},
   "outputs": [],
   "source": [
    "board = Board(4, [[4,1,2,3], \n",
    "                  [5,9,6,7], \n",
    "                  [8,10,0,11], \n",
    "                  [12,13,14,15]])"
   ]
  },
  {
   "cell_type": "markdown",
   "metadata": {},
   "source": [
    "If you want to try always with a solvable board you can do the following:\n",
    "```\n",
    "    board = Board(3)\n",
    "    while not board.is_solvable():\n",
    "        board = Board(3)\n",
    "```"
   ]
  },
  {
   "cell_type": "markdown",
   "metadata": {
    "tags": []
   },
   "source": [
    "### Solver initialization\n",
    "Here you can set the search Algorithm you want, the ones available are:\n",
    "- Depth First Search\n",
    "- Breadth First Search\n",
    "- Depth Limited Search\n",
    "- Random Search\n",
    "- Best First Search\n",
    "- A*\n",
    "\n",
    "For the **Best First** and **A\\*** algorithms you need to provide also one heuristic. The ones available are:\n",
    "- Difference based heuristic (*how many tiles are out of position?*)\n",
    "- Manhattan Distance heuristic ([see also](https://en.wikipedia.org/wiki/Taxicab_geometry))"
   ]
  },
  {
   "cell_type": "code",
   "execution_count": 3,
   "metadata": {},
   "outputs": [],
   "source": [
    "solver = AStarSearch(board, board.get_goal_state(), calculateManhattan)"
   ]
  },
  {
   "cell_type": "markdown",
   "metadata": {},
   "source": [
    "Using the *search()* function of the solver you obtain the list of steps to do in order to solve the puzzle"
   ]
  },
  {
   "cell_type": "code",
   "execution_count": 4,
   "metadata": {},
   "outputs": [
    {
     "name": "stdout",
     "output_type": "stream",
     "text": [
      "Solvable\n",
      "Starting search...\n"
     ]
    }
   ],
   "source": [
    "solvable = True\n",
    "if board.is_solvable():\n",
    "    print(\"Solvable\")\n",
    "    print(\"Starting search...\")\n",
    "    steps = solver.search()"
   ]
  },
  {
   "cell_type": "code",
   "execution_count": 5,
   "metadata": {},
   "outputs": [
    {
     "name": "stdout",
     "output_type": "stream",
     "text": [
      "4\t1\t2\t3\t\n",
      "5\t9\t6\t7\t\n",
      "8\t10\t0\t11\t\n",
      "12\t13\t14\t15\t\n",
      "\n",
      "\t|\n",
      "\t|\n",
      "\t|\n",
      "\tV\n",
      "\n",
      "4\t1\t2\t3\t\n",
      "5\t9\t6\t7\t\n",
      "8\t0\t10\t11\t\n",
      "12\t13\t14\t15\t\n",
      "\n",
      "\t|\n",
      "\t|\n",
      "\t|\n",
      "\tV\n",
      "\n",
      "4\t1\t2\t3\t\n",
      "5\t0\t6\t7\t\n",
      "8\t9\t10\t11\t\n",
      "12\t13\t14\t15\t\n",
      "\n",
      "\t|\n",
      "\t|\n",
      "\t|\n",
      "\tV\n",
      "\n",
      "4\t1\t2\t3\t\n",
      "0\t5\t6\t7\t\n",
      "8\t9\t10\t11\t\n",
      "12\t13\t14\t15\t\n",
      "\n",
      "\t|\n",
      "\t|\n",
      "\t|\n",
      "\tV\n",
      "\n",
      "0\t1\t2\t3\t\n",
      "4\t5\t6\t7\t\n",
      "8\t9\t10\t11\t\n",
      "12\t13\t14\t15\t\n",
      "\n"
     ]
    }
   ],
   "source": [
    "i=0\n",
    "if steps:\n",
    "    for step in steps:\n",
    "        print(step)\n",
    "        if i!=len(steps)-1:\n",
    "            print(\"\\t|\")\n",
    "            print(\"\\t|\")\n",
    "            print(\"\\t|\")\n",
    "            print(\"\\tV\\n\")\n",
    "            i+=1\n",
    "else:\n",
    "    print(\"Unsolvable\")"
   ]
  }
 ],
 "metadata": {
  "kernelspec": {
   "display_name": "Python 3 (ipykernel)",
   "language": "python",
   "name": "python3"
  },
  "language_info": {
   "codemirror_mode": {
    "name": "ipython",
    "version": 3
   },
   "file_extension": ".py",
   "mimetype": "text/x-python",
   "name": "python",
   "nbconvert_exporter": "python",
   "pygments_lexer": "ipython3",
   "version": "3.9.7"
  }
 },
 "nbformat": 4,
 "nbformat_minor": 4
}
