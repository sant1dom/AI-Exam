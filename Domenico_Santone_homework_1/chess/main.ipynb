{
 "cells": [
  {
   "cell_type": "markdown",
   "metadata": {},
   "source": [
    "# Artificial Intelligence - Homework 1"
   ]
  },
  {
   "cell_type": "markdown",
   "metadata": {},
   "source": [
    "## Chess Agents"
   ]
  },
  {
   "cell_type": "code",
   "execution_count": null,
   "metadata": {
    "collapsed": false,
    "jupyter": {
     "outputs_hidden": false
    }
   },
   "outputs": [],
   "source": [
    "import chess\n",
    "import chess.svg\n",
    "import chess.polyglot\n",
    "\n",
    "from Agent import Agent\n",
    "from heuristics.SimpleHeuristic import SimpleHeuristic\n",
    "from heuristics.WeightedHeuristic import WeightedHeuristic\n",
    "from heuristics.AbstractHeuristic import AbstractHeuristic\n",
    "from heuristics.CheckHeuristic import CheckHeuristic\n",
    "from typing import List\n",
    "\n",
    "from IPython.display import display, clear_output\n",
    "\n",
    "import time\n"
   ]
  },
  {
   "cell_type": "markdown",
   "metadata": {
    "tags": []
   },
   "source": [
    "The depth for each heuristic can be changed, over 3 of depth the implementation becomes slow"
   ]
  },
  {
   "cell_type": "code",
   "execution_count": null,
   "outputs": [],
   "source": [
    "board = chess.Board()\n",
    "\n",
    "white_depth = 3\n",
    "black_depth = 3"
   ],
   "metadata": {
    "collapsed": false
   }
  },
  {
   "cell_type": "markdown",
   "metadata": {},
   "source": [
    "Here you can set the heuristic you want.\n",
    "The ones available now are:\n",
    "- SimpleHeuristic\n",
    "- WeightedHeuristic\n",
    "- CheckHeuristic\n",
    "\n",
    "To know more about each heuristic refer to the docs"
   ]
  },
  {
   "cell_type": "code",
   "execution_count": null,
   "metadata": {
    "collapsed": false,
    "jupyter": {
     "outputs_hidden": false
    }
   },
   "outputs": [],
   "source": [
    "white_heuristic = CheckHeuristic()\n",
    "black_heuristic = WeightedHeuristic()"
   ]
  },
  {
   "cell_type": "markdown",
   "metadata": {},
   "source": [
    "In this section you can instantiate the number of agents that will play the game"
   ]
  },
  {
   "cell_type": "code",
   "execution_count": null,
   "metadata": {
    "collapsed": false,
    "jupyter": {
     "outputs_hidden": false
    }
   },
   "outputs": [],
   "source": [
    "agents: List[Agent] = []"
   ]
  },
  {
   "cell_type": "markdown",
   "metadata": {},
   "source": [
    "For example here we instantiated 2 agents with two different heuristics"
   ]
  },
  {
   "cell_type": "code",
   "execution_count": null,
   "metadata": {},
   "outputs": [],
   "source": [
    "agents.append(Agent(white_heuristic, white_depth))\n",
    "agents.append(Agent(black_heuristic, black_depth))"
   ]
  },
  {
   "cell_type": "markdown",
   "metadata": {},
   "source": [
    "### Generic board game loop"
   ]
  },
  {
   "cell_type": "code",
   "execution_count": null,
   "metadata": {
    "collapsed": false,
    "jupyter": {
     "outputs_hidden": false
    }
   },
   "outputs": [],
   "source": [
    "while not board.is_game_over():\n",
    "    for agent in agents:\n",
    "        if board.is_game_over():\n",
    "            break\n",
    "        move = agent.play(board)\n",
    "        board.push(move)\n",
    "        # This is for displaying the game\n",
    "        clear_output(wait=True)\n",
    "        display(board)\n",
    "        # Comment out the following line to faster result, this is here just to visualize the game properly\n",
    "        time.sleep(0.5)\n",
    "\n",
    "# Print the winner\n",
    "if board.outcome().winner == chess.WHITE:\n",
    "    display(\"White wins\")\n",
    "elif board.outcome().winner == chess.BLACK:\n",
    "    display(\"Black wins\")\n",
    "else:\n",
    "    display(\"Draw\")\n",
    "board.reset()"
   ]
  }
 ],
 "metadata": {
  "kernelspec": {
   "display_name": "Python 3 (ipykernel)",
   "language": "python",
   "name": "python3"
  },
  "language_info": {
   "codemirror_mode": {
    "name": "ipython",
    "version": 3
   },
   "file_extension": ".py",
   "mimetype": "text/x-python",
   "name": "python",
   "nbconvert_exporter": "python",
   "pygments_lexer": "ipython3",
   "version": "3.9.7"
  }
 },
 "nbformat": 4,
 "nbformat_minor": 4
}
